{
 "cells": [
  {
   "cell_type": "code",
   "execution_count": 104,
   "metadata": {
    "collapsed": true
   },
   "outputs": [],
   "source": [
    "import scipy as sp\n",
    "import scipy.linalg as la\n",
    "from scipy.integrate import odeint\n",
    "import matplotlib.pyplot as plt\n",
    "from ipywidgets import interact\n",
    "%matplotlib inline"
   ]
  },
  {
   "cell_type": "code",
   "execution_count": 105,
   "metadata": {
    "collapsed": false
   },
   "outputs": [],
   "source": [
    "k1 = 2.97*10e5\n",
    "k2= 1*10e5\n",
    "l1 = 3\n",
    "l2 = 2\n",
    "w = 1000\n",
    "Id = 7.06\n",
    "Ip = 13.69\n",
    "be = 1.5707963268\n",
    "ta = 0.9\n",
    "m = 1\n",
    "mi=1\n",
    "ksi = 0.1\n",
    "c1=2*ksi*((m*k1)**0.5)\n",
    "c2=2*ksi*((m*k2)**0.5)\n",
    "ca = c1+c2\n",
    "cb = cc = c1*l1-c2*l2\n",
    "cd = c1*(l1**2)+c2*(l2**2)\n",
    "al = k1+k2\n",
    "ga = k1*l1-k2*l2\n",
    "de = k1*(l1**2)+k2*(l2**2)\n",
    "omega = sp.linspace(0, 4*((k1+k2)/m)**0.5, 1000)"
   ]
  },
  {
   "cell_type": "code",
   "execution_count": 106,
   "metadata": {
    "collapsed": false
   },
   "outputs": [],
   "source": [
    "M = sp.array([[m, 0,0,0],\n",
    "              [0,m,0,0],\n",
    "              [0,0,Id,0],\n",
    "              [0,0,0,Id]])\n",
    "G = sp.array([[0,0,0,0],\n",
    "              [0,0,0,0],\n",
    "              [0,0,0,Ip],\n",
    "              [0,0,-Ip,0]])\n",
    "C = sp.array([[ca,0,cb,0],\n",
    "              [0,ca,0,cb],\n",
    "              [cc,0,cd,0],\n",
    "              [0,cc,0,cd]])\n",
    "Kt = sp.array([[al,0,ga,0],\n",
    "              [0,al,0,ga],\n",
    "              [ga,0,de,0],\n",
    "              [0,ga,0,de]])\n",
    "\n",
    "\n",
    "'''K = sp.array([[-al/m, 0,-ga/m,0],\n",
    "              [0, -al/m,0,-ga/m],\n",
    "              [-ga/Id,0,-de/Id,0],\n",
    "              [0,-ga/Id,0,-de/Id]])\n",
    "\n",
    "GCw = sp.array([[-ca/m,0,-cb/m,0],\n",
    "                [0,-ca/m,0,-cb/m],\n",
    "                [-cc/Id,0,-cd/Id,-Ip*w/Id],\n",
    "                [0,-cc/Id,-Ip*w/Id,-cd/Id]])'''\n",
    "\n",
    "'''F = sp.array([[m*mi*(O**2)],[m*mi*(O**2)],[(Ip-Id)*(O**2)*ta],[(Ip-Id)*(O**2)*ta]])'''\n",
    "\n",
    "I = sp.eye(len(Kt))\n",
    "Z = sp.zeros_like(Kt)\n",
    "Idinv = la.inv(M)"
   ]
  },
  {
   "cell_type": "code",
   "execution_count": 116,
   "metadata": {
    "collapsed": false
   },
   "outputs": [
    {
     "data": {
      "text/plain": [
       "array([[  3970000.,         0.,   6910000.,         0.],\n",
       "       [        0.,   3970000.,         0.,   6910000.],\n",
       "       [  6910000.,         0.,  30730000.,         0.],\n",
       "       [        0.,   6910000.,         0.,  30730000.]])"
      ]
     },
     "execution_count": 116,
     "metadata": {},
     "output_type": "execute_result"
    }
   ],
   "source": [
    "Kt"
   ]
  },
  {
   "cell_type": "code",
   "execution_count": 112,
   "metadata": {
    "collapsed": false
   },
   "outputs": [],
   "source": [
    "vw = []\n",
    "vt = []\n",
    "vy = []\n",
    "vx = []\n",
    "for O in omega:\n",
    "    x ,y ,si ,ro = la.inv(((-O**2)*M+1.j*O*(0.*C+O*G)+Kt))@ sp.array([[m*mi*(O**2)],\n",
    "                                                                  [m*mi*(O**2)],\n",
    "                                                                  [(Ip-Id)*(O**2)*ta],\n",
    "                                                                  [(Ip-Id)*(O**2)*ta]])\n",
    "    vw.append(sp.absolute(si))\n",
    "    vt.append(sp.absolute(ro))\n",
    "    vx.append(sp.absolute(x))\n",
    "    vy.append(sp.absolute(y))\n",
    "    "
   ]
  },
  {
   "cell_type": "code",
   "execution_count": 115,
   "metadata": {
    "collapsed": false
   },
   "outputs": [
    {
     "data": {
      "text/plain": [
       "[<matplotlib.lines.Line2D at 0x241f15d14e0>]"
      ]
     },
     "execution_count": 115,
     "metadata": {},
     "output_type": "execute_result"
    },
    {
     "data": {
      "image/png": "[encoded data removed]",
      "text/plain": [
       "<matplotlib.figure.Figure at 0x241f155cb70>"
      ]
     },
     "metadata": {},
     "output_type": "display_data"
    }
   ],
   "source": [
    "plt.semilogy(omega, vx)"
   ]
  },
  {
   "cell_type": "code",
   "execution_count": 121,
   "metadata": {
    "collapsed": false
   },
   "outputs": [],
   "source": [
    "omega = sp.linspace(0, 10, 10)"
   ]
  },
  {
   "cell_type": "code",
   "execution_count": 127,
   "metadata": {
    "collapsed": false
   },
   "outputs": [
    {
     "name": "stdout",
     "output_type": "stream",
     "text": [
      "[-2601.72793426 -2601.72793426 -1246.47622289 -1246.47622289  1246.47622289\n",
      "  1246.47622289  2601.72793426  2601.72793426]\n",
      "[  0.           0.           0.           0.          35.30547016\n",
      "  35.30547016  51.00713611  51.00713611]\n",
      "[-2601.72793426 -2601.72793426 -1246.47622289 -1246.47622289  1246.47622289\n",
      "  1246.47622289  2601.72793426  2601.72793426]\n",
      "[  0.           0.           0.           0.          35.30547016\n",
      "  35.30547016  51.00713611  51.00713611]\n",
      "[-2601.72793426 -2601.72793426 -1246.47622289 -1246.47622289  1246.47622289\n",
      "  1246.47622289  2601.72793426  2601.72793426]\n",
      "[  0.           0.           0.           0.          35.30547016\n",
      "  35.30547016  51.00713611  51.00713611]\n",
      "[-2601.72793426 -2601.72793426 -1246.47622289 -1246.47622289  1246.47622289\n",
      "  1246.47622289  2601.72793426  2601.72793426]\n",
      "[  0.           0.           0.           0.          35.30547016\n",
      "  35.30547016  51.00713611  51.00713611]\n",
      "[-2601.72793426 -2601.72793426 -1246.47622289 -1246.47622289  1246.47622289\n",
      "  1246.47622289  2601.72793426  2601.72793426]\n",
      "[  0.           0.           0.           0.          35.30547016\n",
      "  35.30547016  51.00713611  51.00713611]\n",
      "[-2601.72793426 -2601.72793426 -1246.47622289 -1246.47622289  1246.47622289\n",
      "  1246.47622289  2601.72793426  2601.72793426]\n",
      "[  0.           0.           0.           0.          35.30547016\n",
      "  35.30547016  51.00713611  51.00713611]\n",
      "[-2601.72793426 -2601.72793426 -1246.47622289 -1246.47622289  1246.47622289\n",
      "  1246.47622289  2601.72793426  2601.72793426]\n",
      "[  0.           0.           0.           0.          35.30547016\n",
      "  35.30547016  51.00713611  51.00713611]\n",
      "[-2601.72793426 -2601.72793426 -1246.47622289 -1246.47622289  1246.47622289\n",
      "  1246.47622289  2601.72793426  2601.72793426]\n",
      "[  0.           0.           0.           0.          35.30547016\n",
      "  35.30547016  51.00713611  51.00713611]\n",
      "[-2601.72793426 -2601.72793426 -1246.47622289 -1246.47622289  1246.47622289\n",
      "  1246.47622289  2601.72793426  2601.72793426]\n",
      "[  0.           0.           0.           0.          35.30547016\n",
      "  35.30547016  51.00713611  51.00713611]\n",
      "[-2601.72793426 -2601.72793426 -1246.47622289 -1246.47622289  1246.47622289\n",
      "  1246.47622289  2601.72793426  2601.72793426]\n",
      "[  0.           0.           0.           0.          35.30547016\n",
      "  35.30547016  51.00713611  51.00713611]\n"
     ]
    }
   ],
   "source": [
    "A = sp.vstack([sp.hstack([         Z,            I]),\n",
    "               sp.hstack([-Idinv @ Kt, -Idinv @ G*w])])\n",
    "fw = []\n",
    "bw = []\n",
    "for w in omega:\n",
    "    A = sp.vstack([sp.hstack([         Z,            I]),\n",
    "                   sp.hstack([-Idinv @ Kt, -Idinv @ G*w*0])])\n",
    "    evalues, evects = la.eig(A)\n",
    "    evalues = sp.sort(evalues.imag)\n",
    "    print(evalues)\n",
    "    wn = (sp.sqrt(evalues)).real\n",
    "    print(wn)\n",
    "    bw.append(wn[0])\n",
    "    fw.append(wn[1])"
   ]
  },
  {
   "cell_type": "code",
   "execution_count": 119,
   "metadata": {
    "collapsed": false
   },
   "outputs": [
    {
     "data": {
      "text/plain": [
       "(8, 8)"
      ]
     },
     "execution_count": 119,
     "metadata": {},
     "output_type": "execute_result"
    }
   ],
   "source": [
    "A.shape"
   ]
  },
  {
   "cell_type": "code",
   "execution_count": 124,
   "metadata": {
    "collapsed": false
   },
   "outputs": [
    {
     "data": {
      "text/plain": [
       "[<matplotlib.lines.Line2D at 0x241ee946080>]"
      ]
     },
     "execution_count": 124,
     "metadata": {},
     "output_type": "execute_result"
    },
    {
     "data": {
      "image/png": "[encoded data removed]",
      "text/plain": [
       "<matplotlib.figure.Figure at 0x241f1449278>"
      ]
     },
     "metadata": {},
     "output_type": "display_data"
    }
   ],
   "source": [
    "plt.plot(omega, bw)\n",
    "plt.plot(omega, fw)\n",
    "plt.plot(omega, omega)"
   ]
  },
  {
   "cell_type": "code",
   "execution_count": 100,
   "metadata": {
    "collapsed": false
   },
   "outputs": [],
   "source": [
    "A = sp.vstack([sp.hstack([         Z,            I]),\n",
    "               sp.hstack([-Idinv @ Kt, -Idinv @ G*w])])\n",
    "'''x1, y1, si1, ro1, x2, y2, si2, ro2'''\n",
    "\n",
    "def fun(x,t):\n",
    "    m=2\n",
    "    \n",
    "    # definir x1 e x2:\n",
    "    x1, y1, si1, ro1, x2, y2, si2, ro2 = x\n",
    "    \n",
    "    # calcular dxdt utilizando a função cos como forçamento (F0*sp.cos)\n",
    "    dxdt = D = A @ [x1, y1, si1, ro1, x2, y2, si2, ro2] + [0,0,0,0,mi*sp.cos(w*t),mi*sp.sin(w*t),(1-Id/Ip)*ta*(w**2)*sp.cos(w*t),\n",
    "                                                  (1-Id/Ip)*ta*(w**2)*sp.sin(w*t)]\n",
    "    \n",
    "    return dxdt"
   ]
  },
  {
   "cell_type": "code",
   "execution_count": 101,
   "metadata": {
    "collapsed": true
   },
   "outputs": [],
   "source": [
    "#Criar array com condições iniciais\n",
    "z0 = [0,0,0,0,0,0,0,0]\n",
    "\n",
    "# Criar array com o tempo\n",
    "tf = 20\n",
    "t = sp.linspace(0,tf,10000)"
   ]
  },
  {
   "cell_type": "code",
   "execution_count": 102,
   "metadata": {
    "collapsed": false
   },
   "outputs": [],
   "source": [
    "sol =  odeint(fun,z0,t)"
   ]
  },
  {
   "cell_type": "code",
   "execution_count": 103,
   "metadata": {
    "collapsed": false
   },
   "outputs": [
    {
     "data": {
      "text/plain": [
       "[<matplotlib.lines.Line2D at 0x241f0413358>,\n",
       " <matplotlib.lines.Line2D at 0x241f04135f8>,\n",
       " <matplotlib.lines.Line2D at 0x241f04137f0>,\n",
       " <matplotlib.lines.Line2D at 0x241f04139e8>,\n",
       " <matplotlib.lines.Line2D at 0x241f0413be0>,\n",
       " <matplotlib.lines.Line2D at 0x241f0413dd8>,\n",
       " <matplotlib.lines.Line2D at 0x241f0413fd0>,\n",
       " <matplotlib.lines.Line2D at 0x241f0417208>]"
      ]
     },
     "execution_count": 103,
     "metadata": {},
     "output_type": "execute_result"
    },
    {
     "data": {
      "image/png": "[encoded data removed]",
      "text/plain": [
       "<matplotlib.figure.Figure at 0x241f03baa20>"
      ]
     },
     "metadata": {},
     "output_type": "display_data"
    }
   ],
   "source": [
    "plt.plot(sol)"
   ]
  },
  {
   "cell_type": "code",
   "execution_count": null,
   "metadata": {
    "collapsed": true
   },
   "outputs": [],
   "source": []
  },
  {
   "cell_type": "code",
   "execution_count": null,
   "metadata": {
    "collapsed": true
   },
   "outputs": [],
   "source": []
  }
 ],
 "metadata": {
  "anaconda-cloud": {},
  "kernelspec": {
   "display_name": "Python [conda root]",
   "language": "python",
   "name": "conda-root-py"
  },
  "language_info": {
   "codemirror_mode": {
    "name": "ipython",
    "version": 3
   },
   "file_extension": ".py",
   "mimetype": "text/x-python",
   "name": "python",
   "nbconvert_exporter": "python",
   "pygments_lexer": "ipython3",
   "version": "3.5.2"
  }
 },
 "nbformat": 4,
 "nbformat_minor": 0
}
