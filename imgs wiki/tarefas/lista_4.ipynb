{
 "cells": [
  {
   "cell_type": "code",
   "execution_count": 1,
   "metadata": {
    "collapsed": true
   },
   "outputs": [],
   "source": [
    "import scipy as sp\n",
    "import scipy.linalg as la\n",
    "from scipy.integrate import odeint\n",
    "import matplotlib.pyplot as plt\n",
    "from ipywidgets import interact\n",
    "%matplotlib inline"
   ]
  },
  {
   "cell_type": "code",
   "execution_count": 2,
   "metadata": {
    "collapsed": false
   },
   "outputs": [],
   "source": [
    "k1 = 1.3e6\n",
    "k2 = 1e6\n",
    "l1 = 0.25\n",
    "l2 = 0.25\n",
    "w = 500\n",
    "Id = 2.06\n",
    "Ip = 0.69\n",
    "be = 1.5707963268\n",
    "ta = 0.9\n",
    "m = 200\n",
    "mi=1\n",
    "ksi = 0.1\n",
    "c1=50\n",
    "c2=30\n",
    "ca = c1+c2\n",
    "cb = cc = -c1*l1+c2*l2\n",
    "cd = c1*(l1**2)+c2*(l2**2)\n",
    "al = k1+k2\n",
    "ga = -k1*l1+k2*l2\n",
    "de = k1*(l1**2)+k2*(l2**2)\n",
    "omega = sp.linspace(100, 400, 1000)"
   ]
  },
  {
   "cell_type": "code",
   "execution_count": 3,
   "metadata": {
    "collapsed": false
   },
   "outputs": [],
   "source": [
    "M = sp.array([[m, 0,0,0],\n",
    "              [0,m,0,0],\n",
    "              [0,0,Id,0],\n",
    "              [0,0,0,Id]])\n",
    "G = sp.array([[0,0,0,0],\n",
    "              [0,0,0,0],\n",
    "              [0,0,0,Ip],\n",
    "              [0,0,-Ip,0]])\n",
    "C = sp.array([[ca,0,0,cb],\n",
    "              [0,ca,-cb,0],\n",
    "              [0,-cc,cd,0],\n",
    "              [cc,0,0,cd]])\n",
    "Kt = sp.array([[al,0,0,ga],\n",
    "              [0,al,-ga,0],\n",
    "              [0,-ga,de,0],\n",
    "              [ga,0,0,de]])\n",
    "\n",
    "\n",
    "'''K = sp.array([[-al/m, 0,-ga/m,0],\n",
    "              [0, -al/m,0,-ga/m],\n",
    "              [-ga/Id,0,-de/Id,0],\n",
    "              [0,-ga/Id,0,-de/Id]])\n",
    "\n",
    "GCw = sp.array([[-ca/m,0,-cb/m,0],\n",
    "                [0,-ca/m,0,-cb/m],\n",
    "                [-cc/Id,0,-cd/Id,-Ip*w/Id],\n",
    "                [0,-cc/Id,-Ip*w/Id,-cd/Id]])'''\n",
    "\n",
    "'''F = sp.array([[m*mi*(O**2)],[m*mi*(O**2)],[(Ip-Id)*(O**2)*ta],[(Ip-Id)*(O**2)*ta]])'''\n",
    "\n",
    "I = sp.eye(len(Kt))\n",
    "Z = sp.zeros_like(Kt)\n",
    "Idinv = la.inv(M)"
   ]
  },
  {
   "cell_type": "code",
   "execution_count": 4,
   "metadata": {
    "collapsed": false
   },
   "outputs": [
    {
     "data": {
      "text/plain": [
       "array([[ 2300000.,        0.,        0.,   -75000.],\n",
       "       [       0.,  2300000.,    75000.,        0.],\n",
       "       [       0.,    75000.,   143750.,        0.],\n",
       "       [  -75000.,        0.,        0.,   143750.]])"
      ]
     },
     "execution_count": 4,
     "metadata": {},
     "output_type": "execute_result"
    }
   ],
   "source": [
    "Kt"
   ]
  },
  {
   "cell_type": "code",
   "execution_count": 5,
   "metadata": {
    "collapsed": false
   },
   "outputs": [],
   "source": [
    "vw = []\n",
    "vt = []\n",
    "vy = []\n",
    "vx = []\n",
    "for O in omega:\n",
    "    x ,y ,si ,ro = la.inv(((-O**2)*M+1.j*O*(C+O*G)+Kt))@ sp.array([[m*mi*(O**2)],\n",
    "                                                                  [m*mi*(O**2)],\n",
    "                                                                  [(Ip-Id)*(O**2)*ta],\n",
    "                                                                  [(Ip-Id)*(O**2)*ta]])\n",
    "    vw.append(sp.absolute(si))\n",
    "    vt.append(sp.absolute(ro))\n",
    "    vx.append(sp.absolute(x))\n",
    "    vy.append(sp.absolute(y))\n",
    "    "
   ]
  },
  {
   "cell_type": "code",
   "execution_count": 6,
   "metadata": {
    "collapsed": false
   },
   "outputs": [
    {
     "data": {
      "text/plain": [
       "[<matplotlib.lines.Line2D at 0x8671eb8>]"
      ]
     },
     "execution_count": 6,
     "metadata": {},
     "output_type": "execute_result"
    },
    {
     "data": {
      "image/png": "[encoded data removed]",
      "text/plain": [
       "<matplotlib.figure.Figure at 0x8283828>"
      ]
     },
     "metadata": {},
     "output_type": "display_data"
    }
   ],
   "source": [
    "plt.semilogy(omega, vw)"
   ]
  },
  {
   "cell_type": "code",
   "execution_count": 7,
   "metadata": {
    "collapsed": false
   },
   "outputs": [],
   "source": [
    "omega = sp.linspace(0, 10, 10)"
   ]
  },
  {
   "cell_type": "code",
   "execution_count": 8,
   "metadata": {
    "collapsed": false
   },
   "outputs": [
    {
     "name": "stdout",
     "output_type": "stream",
     "text": [
      "[-264.60324485 -264.60324485 -106.1446005  -106.1446005   106.1446005\n",
      "  106.1446005   264.60324485  264.60324485]\n",
      "[  0.           0.           0.           0.          10.30265017\n",
      "  10.30265017  16.26662979  16.26662979]\n",
      "[-264.60324485 -264.60324485 -106.1446005  -106.1446005   106.1446005\n",
      "  106.1446005   264.60324485  264.60324485]\n",
      "[  0.           0.           0.           0.          10.30265017\n",
      "  10.30265017  16.26662979  16.26662979]\n",
      "[-264.60324485 -264.60324485 -106.1446005  -106.1446005   106.1446005\n",
      "  106.1446005   264.60324485  264.60324485]\n",
      "[  0.           0.           0.           0.          10.30265017\n",
      "  10.30265017  16.26662979  16.26662979]\n",
      "[-264.60324485 -264.60324485 -106.1446005  -106.1446005   106.1446005\n",
      "  106.1446005   264.60324485  264.60324485]\n",
      "[  0.           0.           0.           0.          10.30265017\n",
      "  10.30265017  16.26662979  16.26662979]\n",
      "[-264.60324485 -264.60324485 -106.1446005  -106.1446005   106.1446005\n",
      "  106.1446005   264.60324485  264.60324485]\n",
      "[  0.           0.           0.           0.          10.30265017\n",
      "  10.30265017  16.26662979  16.26662979]\n",
      "[-264.60324485 -264.60324485 -106.1446005  -106.1446005   106.1446005\n",
      "  106.1446005   264.60324485  264.60324485]\n",
      "[  0.           0.           0.           0.          10.30265017\n",
      "  10.30265017  16.26662979  16.26662979]\n",
      "[-264.60324485 -264.60324485 -106.1446005  -106.1446005   106.1446005\n",
      "  106.1446005   264.60324485  264.60324485]\n",
      "[  0.           0.           0.           0.          10.30265017\n",
      "  10.30265017  16.26662979  16.26662979]\n",
      "[-264.60324485 -264.60324485 -106.1446005  -106.1446005   106.1446005\n",
      "  106.1446005   264.60324485  264.60324485]\n",
      "[  0.           0.           0.           0.          10.30265017\n",
      "  10.30265017  16.26662979  16.26662979]\n",
      "[-264.60324485 -264.60324485 -106.1446005  -106.1446005   106.1446005\n",
      "  106.1446005   264.60324485  264.60324485]\n",
      "[  0.           0.           0.           0.          10.30265017\n",
      "  10.30265017  16.26662979  16.26662979]\n",
      "[-264.60324485 -264.60324485 -106.1446005  -106.1446005   106.1446005\n",
      "  106.1446005   264.60324485  264.60324485]\n",
      "[  0.           0.           0.           0.          10.30265017\n",
      "  10.30265017  16.26662979  16.26662979]\n"
     ]
    }
   ],
   "source": [
    "A = sp.vstack([sp.hstack([         Z,            I]),\n",
    "               sp.hstack([-Idinv @ Kt, -Idinv @ G*w])])\n",
    "fw = []\n",
    "bw = []\n",
    "for w in omega:\n",
    "    A = sp.vstack([sp.hstack([         Z,            I]),\n",
    "                   sp.hstack([-Idinv @ Kt, -Idinv @ G*w*0])])\n",
    "    evalues, evects = la.eig(A)\n",
    "    evalues = sp.sort(evalues.imag)\n",
    "    print(evalues)\n",
    "    wn = (sp.sqrt(evalues)).real\n",
    "    print(wn)\n",
    "    bw.append(wn[0])\n",
    "    fw.append(wn[1])"
   ]
  },
  {
   "cell_type": "code",
   "execution_count": 9,
   "metadata": {
    "collapsed": false
   },
   "outputs": [
    {
     "data": {
      "text/plain": [
       "(8, 8)"
      ]
     },
     "execution_count": 9,
     "metadata": {},
     "output_type": "execute_result"
    }
   ],
   "source": [
    "A.shape"
   ]
  },
  {
   "cell_type": "code",
   "execution_count": 10,
   "metadata": {
    "collapsed": false
   },
   "outputs": [
    {
     "data": {
      "text/plain": [
       "[<matplotlib.lines.Line2D at 0x9a63198>]"
      ]
     },
     "execution_count": 10,
     "metadata": {},
     "output_type": "execute_result"
    },
    {
     "data": {
      "image/png": "[encoded data removed]",
      "text/plain": [
       "<matplotlib.figure.Figure at 0x8a3c630>"
      ]
     },
     "metadata": {},
     "output_type": "display_data"
    }
   ],
   "source": [
    "plt.plot(omega, bw)\n",
    "plt.plot(omega, fw)\n",
    "plt.plot(omega, omega)"
   ]
  },
  {
   "cell_type": "code",
   "execution_count": 11,
   "metadata": {
    "collapsed": false
   },
   "outputs": [],
   "source": [
    "A = sp.vstack([sp.hstack([         Z,            I]),\n",
    "               sp.hstack([-Idinv @ Kt, -Idinv @ (G*w)])])\n",
    "'''x1, y1, si1, ro1, x2, y2, si2, ro2'''\n",
    "\n",
    "def fun(x,t):\n",
    "    m=2\n",
    "    \n",
    "    # definir x1 e x2:\n",
    "    x1, y1, si1, ro1, x2, y2, si2, ro2 = x\n",
    "    \n",
    "    # calcular dxdt utilizando a função cos como forçamento (F0*sp.cos)\n",
    "    dxdt = D = A @ [x1, y1, si1, ro1, x2, y2, si2, ro2] + [0,0,0,0,mi*sp.cos(w*t),mi*sp.sin(w*t),(1-Id/Ip)*ta*(w**2)*sp.cos(w*t),\n",
    "                                                  (1-Id/Ip)*ta*(w**2)*sp.sin(w*t)]\n",
    "    \n",
    "    return dxdt"
   ]
  },
  {
   "cell_type": "code",
   "execution_count": 12,
   "metadata": {
    "collapsed": true
   },
   "outputs": [],
   "source": [
    "#Criar array com condições iniciais\n",
    "z0 = [0,0,0,0,0,0,0,0]\n",
    "\n",
    "# Criar array com o tempo\n",
    "tf = 20\n",
    "t = sp.linspace(0,tf,10000)"
   ]
  },
  {
   "cell_type": "code",
   "execution_count": 13,
   "metadata": {
    "collapsed": false
   },
   "outputs": [],
   "source": [
    "sol =  odeint(fun,z0,t)"
   ]
  },
  {
   "cell_type": "code",
   "execution_count": 17,
   "metadata": {
    "collapsed": false
   },
   "outputs": [
    {
     "data": {
      "text/plain": [
       "[<matplotlib.lines.Line2D at 0x5fc7240>]"
      ]
     },
     "execution_count": 17,
     "metadata": {},
     "output_type": "execute_result"
    },
    {
     "data": {
      "image/png": "[encoded data removed]",
      "text/plain": [
       "<matplotlib.figure.Figure at 0x5f75898>"
      ]
     },
     "metadata": {},
     "output_type": "display_data"
    }
   ],
   "source": [
    "plt.plot(sol[0:100,1],sol[0:100,0])"
   ]
  },
  {
   "cell_type": "code",
   "execution_count": null,
   "metadata": {
    "collapsed": true
   },
   "outputs": [],
   "source": []
  },
  {
   "cell_type": "code",
   "execution_count": null,
   "metadata": {
    "collapsed": true
   },
   "outputs": [],
   "source": []
  }
 ],
 "metadata": {
  "anaconda-cloud": {},
  "kernelspec": {
   "display_name": "Python [Root]",
   "language": "python",
   "name": "Python [Root]"
  },
  "language_info": {
   "codemirror_mode": {
    "name": "ipython",
    "version": 3
   },
   "file_extension": ".py",
   "mimetype": "text/x-python",
   "name": "python",
   "nbconvert_exporter": "python",
   "pygments_lexer": "ipython3",
   "version": "3.5.2"
  }
 },
 "nbformat": 4,
 "nbformat_minor": 0
}
