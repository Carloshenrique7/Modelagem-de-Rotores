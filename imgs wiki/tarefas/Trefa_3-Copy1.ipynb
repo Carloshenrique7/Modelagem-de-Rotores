{
 "cells": [
  {
   "cell_type": "code",
   "execution_count": 1,
   "metadata": {
    "collapsed": true
   },
   "outputs": [],
   "source": [
    "import scipy as sp\n",
    "from scipy.integrate import odeint\n",
    "import scipy.linalg as la\n",
    "import matplotlib.pyplot as plt\n",
    "from ipywidgets import interact\n",
    "%matplotlib inline\n",
    "sp.set_printoptions(precision=3, linewidth=300)"
   ]
  },
  {
   "cell_type": "code",
   "execution_count": 15,
   "metadata": {
    "collapsed": false
   },
   "outputs": [],
   "source": [
    "Id = 7.06\n",
    "Ip = 13.69\n",
    "k = 2.97*10e5\n",
    "w = 600 #frequência natural\n",
    "ksi = 0.9\n",
    "c=2*ksi*((Id*k)**0.5)\n",
    "omega = sp.linspace(0, 1000, 1000)"
   ]
  },
  {
   "cell_type": "code",
   "execution_count": 16,
   "metadata": {
    "collapsed": false
   },
   "outputs": [
    {
     "data": {
      "text/plain": [
       "array([[  0.000e+00,   0.000e+00,   1.000e+00,   0.000e+00],\n",
       "       [  0.000e+00,   0.000e+00,   0.000e+00,   1.000e+00],\n",
       "       [ -4.207e+05,   0.000e+00,   0.000e+00,  -2.331e+03],\n",
       "       [  0.000e+00,  -4.207e+05,  -4.021e+00,   0.000e+00]])"
      ]
     },
     "execution_count": 16,
     "metadata": {},
     "output_type": "execute_result"
    }
   ],
   "source": [
    "M = sp.array([[Id,0],\n",
    "              [0,Id]])\n",
    "G = sp.array([[0,Ip],\n",
    "              [-Ip,0]])\n",
    "C = sp.array([[0,c],\n",
    "              [c,0]])\n",
    "Kt = sp.array([[k,0],\n",
    "              [0,k]])\n",
    "I = sp.eye(len(Kt))\n",
    "Z = sp.zeros_like(Kt)\n",
    "invM = la.inv(M)\n",
    "\n",
    "A = sp.vstack([sp.hstack([         Z,            I]),\n",
    "               sp.hstack([-invM @ Kt, -invM @ (G*w+C)])])\n",
    "\n",
    "\n",
    "A"
   ]
  },
  {
   "cell_type": "code",
   "execution_count": 17,
   "metadata": {
    "collapsed": true
   },
   "outputs": [],
   "source": [
    "va = []\n",
    "vb = []\n",
    "for O in omega:\n",
    "    a, b = la.inv(((-O**2)*M+1.j*O*(C+O*G)+Kt))@ sp.array([[(Id-Ip)*(O**2)],\n",
    "                                                                  [(Id-Ip)*(O**2)]])\n",
    "    va.append(sp.absolute(a))\n",
    "    vb.append(sp.absolute(b))"
   ]
  },
  {
   "cell_type": "code",
   "execution_count": 18,
   "metadata": {
    "collapsed": false
   },
   "outputs": [
    {
     "data": {
      "text/plain": [
       "[<matplotlib.lines.Line2D at 0x6326470>]"
      ]
     },
     "execution_count": 18,
     "metadata": {},
     "output_type": "execute_result"
    },
    {
     "data": {
      "image/png": "[encoded data removed]",
      "text/plain": [
       "<matplotlib.figure.Figure at 0x62968d0>"
      ]
     },
     "metadata": {},
     "output_type": "display_data"
    }
   ],
   "source": [
    "plt.plot(omega, va)"
   ]
  },
  {
   "cell_type": "code",
   "execution_count": 19,
   "metadata": {
    "collapsed": false
   },
   "outputs": [],
   "source": [
    "A = sp.vstack([sp.hstack([         Z,            I]),\n",
    "               sp.hstack([-invM @ Kt, -invM @ (G*w+C)])])\n",
    "\n",
    "def func(x, t):\n",
    "    \n",
    "    # definir x1 e x2:\n",
    "    a1, b1, a2, b2 = x\n",
    "    \n",
    "    # calcular dxdt\n",
    "    'dxdt = A @ [a1,b1,a2,b2] + [0,0,(1-Id/Ip)*(w**2)*sp.cos(w*t),(1-Id/Ip)*(w**2)*sp.sin(w*t)]'\n",
    "    dxdt = [a2,b2,a1*(-k/Id)+(b2*(-Ip*w+c)/Id)+(Id-Ip)*(w**2)*sp.cos(-w*t),b1*(-k/Id)+(a2*(Ip*w+c)/Id)+(Id-Ip)*(w**2)*sp.sin(w*t)]\n",
    "    return dxdt"
   ]
  },
  {
   "cell_type": "code",
   "execution_count": 20,
   "metadata": {
    "collapsed": false
   },
   "outputs": [],
   "source": [
    "# Condições iniciais\n",
    "b10=0\n",
    "b20=0\n",
    "a10=0\n",
    "a20=0\n",
    "\n",
    "#Criar array com condições iniciais\n",
    "z0 = [a10,a20,b10,b20]\n",
    "\n",
    "# Criar array com o tempo\n",
    "tf = 20\n",
    "t = sp.linspace(0, tf, 5000)"
   ]
  },
  {
   "cell_type": "code",
   "execution_count": 21,
   "metadata": {
    "collapsed": false
   },
   "outputs": [
    {
     "name": "stderr",
     "output_type": "stream",
     "text": [
      "C:\\Anaconda3\\lib\\site-packages\\ipykernel\\__main__.py:11: RuntimeWarning: overflow encountered in double_scalars\n",
      "C:\\Anaconda3\\lib\\site-packages\\scipy\\integrate\\odepack.py:218: ODEintWarning: Excess accuracy requested (tolerances too small). Run with full_output = 1 to get quantitative information.\n",
      "  warnings.warn(warning_msg, ODEintWarning)\n"
     ]
    }
   ],
   "source": [
    "sol = odeint(func, z0, t)\n",
    "A=sol[:,(0,1)]"
   ]
  },
  {
   "cell_type": "code",
   "execution_count": 22,
   "metadata": {
    "collapsed": false
   },
   "outputs": [
    {
     "name": "stderr",
     "output_type": "stream",
     "text": [
      "C:\\Anaconda3\\lib\\site-packages\\matplotlib\\axes\\_axes.py:519: UserWarning: No labelled objects found. Use label='...' kwarg on individual plots.\n",
      "  warnings.warn(\"No labelled objects found. \"\n"
     ]
    },
    {
     "data": {
      "text/plain": [
       "<matplotlib.text.Text at 0x8379160>"
      ]
     },
     "execution_count": 22,
     "metadata": {},
     "output_type": "execute_result"
    },
    {
     "data": {
      "image/png": "[encoded data removed]",
      "text/plain": [
       "<matplotlib.figure.Figure at 0x62aa3c8>"
      ]
     },
     "metadata": {},
     "output_type": "display_data"
    }
   ],
   "source": [
    "plt.plot(sol[:,0],sol[:,1])\n",
    "plt.legend()\n",
    "plt.xlabel('alpha')\n",
    "plt.ylabel('beta')"
   ]
  },
  {
   "cell_type": "code",
   "execution_count": 23,
   "metadata": {
    "collapsed": true
   },
   "outputs": [],
   "source": [
    "A = sp.vstack([sp.hstack([         Z,            I]),\n",
    "               sp.hstack([-invM @ Kt, -invM @ (G*w+C)])])\n",
    "\n",
    "def func(x, t):\n",
    "    \n",
    "    # definir x1 e x2:\n",
    "    a1, b1, a2, b2 = x\n",
    "    \n",
    "    # calcular dxdt\n",
    "    'dxdt = A @ [a1,b1,a2,b2] + [0,0,(1-Id/Ip)*(w**2)*sp.cos(w*t),(1-Id/Ip)*(w**2)*sp.sin(w*t)]'\n",
    "    dxdt = [a2,b2,a1*(-k/Id)+(b2*(-Ip*w)/Id)+(Id-Ip)*(w**2)*sp.cos(-w*t),b1*(-k/Id)+(a2*(Ip*w)/Id)+(Id-Ip)*(w**2)*sp.sin(w*t)]\n",
    "    return dxdt"
   ]
  },
  {
   "cell_type": "code",
   "execution_count": 24,
   "metadata": {
    "collapsed": true
   },
   "outputs": [],
   "source": [
    "# Condições iniciais\n",
    "b10=0\n",
    "b20=0\n",
    "a10=0\n",
    "a20=0\n",
    "\n",
    "#Criar array com condições iniciais\n",
    "z0 = [a10,a20,b10,b20]\n",
    "\n",
    "# Criar array com o tempo\n",
    "tf = 20\n",
    "t = sp.linspace(0, tf, 5000)"
   ]
  },
  {
   "cell_type": "code",
   "execution_count": 25,
   "metadata": {
    "collapsed": false
   },
   "outputs": [
    {
     "name": "stderr",
     "output_type": "stream",
     "text": [
      "C:\\Anaconda3\\lib\\site-packages\\matplotlib\\axes\\_axes.py:519: UserWarning: No labelled objects found. Use label='...' kwarg on individual plots.\n",
      "  warnings.warn(\"No labelled objects found. \"\n"
     ]
    },
    {
     "data": {
      "text/plain": [
       "<matplotlib.text.Text at 0x65439b0>"
      ]
     },
     "execution_count": 25,
     "metadata": {},
     "output_type": "execute_result"
    },
    {
     "data": {
      "image/png": "[encoded data removed]",
      "text/plain": [
       "<matplotlib.figure.Figure at 0x65155c0>"
      ]
     },
     "metadata": {},
     "output_type": "display_data"
    }
   ],
   "source": [
    "sol = odeint(func, z0, t)\n",
    "A=sol[:,(0,1)]\n",
    "plt.plot(sol[:,0],sol[:,1])\n",
    "plt.legend()\n",
    "plt.xlabel('alpha')\n",
    "plt.ylabel('beta')"
   ]
  },
  {
   "cell_type": "code",
   "execution_count": null,
   "metadata": {
    "collapsed": true
   },
   "outputs": [],
   "source": []
  },
  {
   "cell_type": "code",
   "execution_count": null,
   "metadata": {
    "collapsed": true
   },
   "outputs": [],
   "source": []
  }
 ],
 "metadata": {
  "anaconda-cloud": {},
  "kernelspec": {
   "display_name": "Python [Root]",
   "language": "python",
   "name": "Python [Root]"
  },
  "language_info": {
   "codemirror_mode": {
    "name": "ipython",
    "version": 3
   },
   "file_extension": ".py",
   "mimetype": "text/x-python",
   "name": "python",
   "nbconvert_exporter": "python",
   "pygments_lexer": "ipython3",
   "version": "3.5.2"
  }
 },
 "nbformat": 4,
 "nbformat_minor": 0
}
