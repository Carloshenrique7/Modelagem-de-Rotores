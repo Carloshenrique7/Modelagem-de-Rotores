{
 "cells": [
  {
   "cell_type": "code",
   "execution_count": 12,
   "metadata": {
    "collapsed": true
   },
   "outputs": [],
   "source": [
    "import scipy as sp\n",
    "from scipy.integrate import odeint\n",
    "import scipy.linalg as la\n",
    "import matplotlib.pyplot as plt\n",
    "from ipywidgets import interact\n",
    "%matplotlib inline\n",
    "sp.set_printoptions(precision=3, linewidth=300)"
   ]
  },
  {
   "cell_type": "code",
   "execution_count": 13,
   "metadata": {
    "collapsed": false
   },
   "outputs": [],
   "source": [
    "Id = 7.06\n",
    "Ip = 13.69\n",
    "k = 2.97*10e5\n",
    "w = 23.640013697994299 #frequência natural\n",
    "c=0.7"
   ]
  },
  {
   "cell_type": "code",
   "execution_count": 14,
   "metadata": {
    "collapsed": true
   },
   "outputs": [],
   "source": [
    "def func(x, t):\n",
    "    \n",
    "    # definir x1 e x2:\n",
    "    a1, b1, a2, b2 = x\n",
    "    \n",
    "    # calcular dxdt\n",
    "    dxdt = [a2,b2,a1*(-k/Id)+(b2*(-Ip*w)/Id)+(Id-Ip)*(w**2)*sp.cos(-w*t),b1*(-k/Id)+(a2*(Ip*w)/Id)+(Id-Ip)*(w**2)*sp.sin(w*t)]\n",
    "    return dxdt"
   ]
  },
  {
   "cell_type": "code",
   "execution_count": 15,
   "metadata": {
    "collapsed": false
   },
   "outputs": [],
   "source": [
    "# Condições iniciais\n",
    "b10=0\n",
    "b20=0\n",
    "a10=0\n",
    "a20=0\n",
    "\n",
    "#Criar array com condições iniciais\n",
    "z0 = [a10,a20,b10,b20]\n",
    "\n",
    "# Criar array com o tempo\n",
    "tf = 20\n",
    "t = sp.linspace(5, tf, 50)"
   ]
  },
  {
   "cell_type": "code",
   "execution_count": 16,
   "metadata": {
    "collapsed": false
   },
   "outputs": [
    {
     "name": "stderr",
     "output_type": "stream",
     "text": [
      "C:\\Anaconda3\\lib\\site-packages\\scipy\\integrate\\odepack.py:218: ODEintWarning: Excess work done on this call (perhaps wrong Dfun type). Run with full_output = 1 to get quantitative information.\n",
      "  warnings.warn(warning_msg, ODEintWarning)\n"
     ]
    }
   ],
   "source": [
    "sol = odeint(func, z0, t)\n",
    "A=sol[:,(0,1)]"
   ]
  },
  {
   "cell_type": "code",
   "execution_count": 17,
   "metadata": {
    "collapsed": false
   },
   "outputs": [
    {
     "name": "stderr",
     "output_type": "stream",
     "text": [
      "C:\\Anaconda3\\lib\\site-packages\\matplotlib\\axes\\_axes.py:519: UserWarning: No labelled objects found. Use label='...' kwarg on individual plots.\n",
      "  warnings.warn(\"No labelled objects found. \"\n"
     ]
    },
    {
     "data": {
      "text/plain": [
       "<matplotlib.text.Text at 0x8a78550>"
      ]
     },
     "execution_count": 17,
     "metadata": {},
     "output_type": "execute_result"
    },
    {
     "data": {
      "image/png": "[encoded data removed]",
      "text/plain": [
       "<matplotlib.figure.Figure at 0x8a0d320>"
      ]
     },
     "metadata": {},
     "output_type": "display_data"
    }
   ],
   "source": [
    "plt.plot(sol[:,0],sol[:,1])\n",
    "plt.legend()\n",
    "plt.xlabel('alpha')\n",
    "plt.ylabel('beta')"
   ]
  },
  {
   "cell_type": "code",
   "execution_count": null,
   "metadata": {
    "collapsed": true
   },
   "outputs": [],
   "source": []
  }
 ],
 "metadata": {
  "kernelspec": {
   "display_name": "Python [Root]",
   "language": "python",
   "name": "Python [Root]"
  },
  "language_info": {
   "codemirror_mode": {
    "name": "ipython",
    "version": 3
   },
   "file_extension": ".py",
   "mimetype": "text/x-python",
   "name": "python",
   "nbconvert_exporter": "python",
   "pygments_lexer": "ipython3",
   "version": "3.5.2"
  }
 },
 "nbformat": 4,
 "nbformat_minor": 0
}
